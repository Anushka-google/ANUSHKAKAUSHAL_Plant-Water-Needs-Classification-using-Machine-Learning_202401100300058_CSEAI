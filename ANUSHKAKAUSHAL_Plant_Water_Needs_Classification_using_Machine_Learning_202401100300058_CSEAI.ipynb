{
  "nbformat": 4,
  "nbformat_minor": 0,
  "metadata": {
    "colab": {
      "provenance": []
    },
    "kernelspec": {
      "name": "python3",
      "display_name": "Python 3"
    },
    "language_info": {
      "name": "python"
    }
  },
  "cells": [
    {
      "cell_type": "code",
      "source": [
        "# --- Load Dataset ---\n",
        "df = pd.read_csv(\"plants.csv\")\n",
        "\n",
        "# Preview data and columns\n",
        "print(\"Dataset preview:\")\n",
        "print(df.head())\n",
        "print(\"\\nColumns in dataset:\")\n",
        "print(df.columns)\n",
        "\n",
        "# --- Preprocessing ---\n",
        "\n",
        "# OPTIONAL: Drop any irrelevant or unnamed index column\n",
        "df = df.loc[:, ~df.columns.str.contains('^Unnamed')]\n",
        "\n"
      ],
      "metadata": {
        "colab": {
          "base_uri": "https://localhost:8080/"
        },
        "id": "fJ1Wl1-u2eTi",
        "outputId": "7f97d62c-83f9-47ba-b44b-0116fd7d47c3"
      },
      "execution_count": 7,
      "outputs": [
        {
          "output_type": "stream",
          "name": "stdout",
          "text": [
            "Dataset preview:\n",
            "   sunlight_hours  watering_freq_per_week soil_type water_need\n",
            "0        7.789136                       6     sandy        low\n",
            "1       11.668008                       4     loamy       high\n",
            "2        9.003943                       2     loamy        low\n",
            "3       11.148641                       5     loamy        low\n",
            "4        9.384333                       2      clay       high\n",
            "\n",
            "Columns in dataset:\n",
            "Index(['sunlight_hours', 'watering_freq_per_week', 'soil_type', 'water_need'], dtype='object')\n"
          ]
        }
      ]
    },
    {
      "cell_type": "code",
      "source": [
        "# Encode categorical columns\n",
        "label_encoders = {}\n",
        "for col in df.select_dtypes(include='object').columns:\n",
        "    le = LabelEncoder()\n",
        "    df[col] = le.fit_transform(df[col])\n",
        "    label_encoders[col] = le\n",
        "\n",
        "\n",
        "\n"
      ],
      "metadata": {
        "id": "yucFa1kb2uBH"
      },
      "execution_count": null,
      "outputs": []
    },
    {
      "cell_type": "code",
      "execution_count": 6,
      "metadata": {
        "id": "ZcZZR-qD1OBz"
      },
      "outputs": [],
      "source": [
        "# Title: Classify Plants Based on Water Needs\n",
        "# Name: [Your Full Name]\n",
        "# Roll Number: [Your Roll Number]\n",
        "# Google Colab Notebook for AI MSE Report\n",
        "\n",
        "# --- Introduction ---\n",
        "\"\"\"\n",
        "In this project, we aim to classify plants based on their water requirements using environmental factors.\n",
        "We will use the 'plants.csv' dataset and apply classification techniques to solve this.\n",
        "\"\"\"\n",
        "# --- Import Libraries ---\n",
        "import pandas as pd\n",
        "import numpy as np\n",
        "import seaborn as sns\n",
        "import matplotlib.pyplot as plt\n",
        "from sklearn.model_selection import train_test_split\n",
        "from sklearn.preprocessing import LabelEncoder, StandardScaler\n",
        "from sklearn.ensemble import RandomForestClassifier\n",
        "from sklearn.metrics import confusion_matrix, classification_report, accuracy_score\n",
        "\n",
        "\n"
      ]
    },
    {
      "cell_type": "code",
      "source": [
        "\n",
        "\n",
        "# --- Set Target Column ---\n",
        "target_column = 'water_need'  # ✅ Correct column name from your dataset\n",
        "\n",
        "X = df.drop(target_column, axis=1)\n",
        "y = df[target_column]\n",
        "\n",
        "# --- Feature Scaling ---\n",
        "scaler = StandardScaler()\n",
        "X_scaled = scaler.fit_transform(X)\n",
        "\n",
        "# --- Train-test split ---\n",
        "X_train, X_test, y_train, y_test = train_test_split(X_scaled, y, test_size=0.2, random_state=42)\n",
        "\n",
        "# --- Model Training ---\n",
        "model = RandomForestClassifier()\n",
        "model.fit(X_train, y_train)\n",
        "\n",
        "# --- Prediction ---\n",
        "y_pred = model.predict(X_test)\n",
        "\n",
        "# --- Evaluation ---\n",
        "print(\"\\nAccuracy:\", accuracy_score(y_test, y_pred))\n",
        "print(\"\\nClassification Report:\\n\", classification_report(y_test, y_pred))\n",
        "\n",
        "# --- Output/Result - Confusion Matrix ---\n",
        "conf_mat = confusion_matrix(y_test, y_pred)\n",
        "sns.heatmap(conf_mat, annot=True, fmt='d', cmap='Blues')\n",
        "plt.title(\"Confusion Matrix - Plant Water Needs Classification\")\n",
        "plt.xlabel(\"Predicted\")\n",
        "plt.ylabel(\"Actual\")\n",
        "plt.show()\n",
        "\n",
        "# --- References/Credits ---\n",
        "\"\"\"\n",
        "Dataset: Provided 'plants.csv'\n",
        "Scikit-learn documentation: https://scikit-learn.org/\n",
        "Seaborn visualization: https://seaborn.pydata.org/\n",
        "\"\"\"\n"
      ],
      "metadata": {
        "colab": {
          "base_uri": "https://localhost:8080/",
          "height": 751
        },
        "id": "1KQYb1Fp25OA",
        "outputId": "7db0d616-8460-4bfa-cc5a-4cdda256c592"
      },
      "execution_count": 13,
      "outputs": [
        {
          "output_type": "stream",
          "name": "stdout",
          "text": [
            "\n",
            "Accuracy: 0.25\n",
            "\n",
            "Classification Report:\n",
            "               precision    recall  f1-score   support\n",
            "\n",
            "           0       0.17      0.20      0.18         5\n",
            "           1       0.33      0.27      0.30        11\n",
            "           2       0.20      0.25      0.22         4\n",
            "\n",
            "    accuracy                           0.25        20\n",
            "   macro avg       0.23      0.24      0.23        20\n",
            "weighted avg       0.27      0.25      0.25        20\n",
            "\n"
          ]
        },
        {
          "output_type": "display_data",
          "data": {
            "text/plain": [
              "<Figure size 640x480 with 2 Axes>"
            ],
            "image/png": "[encoded data removed]"
          },
          "metadata": {}
        },
        {
          "output_type": "execute_result",
          "data": {
            "text/plain": [
              "\"\\nDataset: Provided 'plants.csv'\\nScikit-learn documentation: https://scikit-learn.org/\\nSeaborn visualization: https://seaborn.pydata.org/\\n\""
            ],
            "application/vnd.google.colaboratory.intrinsic+json": {
              "type": "string"
            }
          },
          "metadata": {},
          "execution_count": 13
        }
      ]
    },
    {
      "cell_type": "code",
      "source": [],
      "metadata": {
        "id": "UJd_GAs427Tq"
      },
      "execution_count": 11,
      "outputs": []
    }
  ]
}